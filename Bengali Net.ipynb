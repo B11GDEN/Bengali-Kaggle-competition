{
 "cells": [
  {
   "cell_type": "code",
   "execution_count": 1,
   "metadata": {
    "colab": {
     "base_uri": "https://localhost:8080/",
     "height": 54
    },
    "colab_type": "code",
    "executionInfo": {
     "elapsed": 568,
     "status": "ok",
     "timestamp": 1580677214806,
     "user": {
      "displayName": "Даниил Игоревич Мангазеев",
      "photoUrl": "",
      "userId": "05250228785286022094"
     },
     "user_tz": -180
    },
    "id": "KuOWrKdQz9Pm",
    "outputId": "87dcf210-2803-43e6-9599-ed094ea7961b"
   },
   "outputs": [
    {
     "name": "stdout",
     "output_type": "stream",
     "text": [
      "Drive already mounted at /content/drive; to attempt to forcibly remount, call drive.mount(\"/content/drive\", force_remount=True).\n"
     ]
    }
   ],
   "source": [
    "from google.colab import drive\n",
    "drive.mount('/content/drive')"
   ]
  },
  {
   "cell_type": "code",
   "execution_count": 2,
   "metadata": {
    "colab": {
     "base_uri": "https://localhost:8080/",
     "height": 419
    },
    "colab_type": "code",
    "executionInfo": {
     "elapsed": 4075,
     "status": "ok",
     "timestamp": 1580677218343,
     "user": {
      "displayName": "Даниил Игоревич Мангазеев",
      "photoUrl": "",
      "userId": "05250228785286022094"
     },
     "user_tz": -180
    },
    "id": "dDn577oA1TGF",
    "outputId": "1e0ec344-0cd2-4461-d812-da6a5b24c04b"
   },
   "outputs": [
    {
     "name": "stdout",
     "output_type": "stream",
     "text": [
      "Requirement already satisfied: pytorch_lightning in /usr/local/lib/python3.6/dist-packages (0.6.0)\n",
      "Requirement already satisfied: torchvision<0.5,>=0.4.0 in /usr/local/lib/python3.6/dist-packages (from pytorch_lightning) (0.4.2)\n",
      "Requirement already satisfied: pandas>=0.24 in /usr/local/lib/python3.6/dist-packages (from pytorch_lightning) (0.25.3)\n",
      "Requirement already satisfied: future>=0.17.1 in /usr/local/lib/python3.6/dist-packages (from pytorch_lightning) (0.18.2)\n",
      "Requirement already satisfied: torch>=1.1 in /usr/local/lib/python3.6/dist-packages (from pytorch_lightning) (1.3.1)\n",
      "Requirement already satisfied: scikit-learn>=0.20.2 in /usr/local/lib/python3.6/dist-packages (from pytorch_lightning) (0.22.1)\n",
      "Requirement already satisfied: tqdm>=4.35.0 in /usr/local/lib/python3.6/dist-packages (from pytorch_lightning) (4.42.0)\n",
      "Requirement already satisfied: numpy>=1.16.4 in /usr/local/lib/python3.6/dist-packages (from pytorch_lightning) (1.17.5)\n",
      "Requirement already satisfied: tensorboard>=1.14 in /usr/local/lib/python3.6/dist-packages (from pytorch_lightning) (1.15.0)\n",
      "Requirement already satisfied: six in /usr/local/lib/python3.6/dist-packages (from torchvision<0.5,>=0.4.0->pytorch_lightning) (1.12.0)\n",
      "Requirement already satisfied: pillow>=4.1.1 in /usr/local/lib/python3.6/dist-packages (from torchvision<0.5,>=0.4.0->pytorch_lightning) (6.2.2)\n",
      "Requirement already satisfied: pytz>=2017.2 in /usr/local/lib/python3.6/dist-packages (from pandas>=0.24->pytorch_lightning) (2018.9)\n",
      "Requirement already satisfied: python-dateutil>=2.6.1 in /usr/local/lib/python3.6/dist-packages (from pandas>=0.24->pytorch_lightning) (2.6.1)\n",
      "Requirement already satisfied: scipy>=0.17.0 in /usr/local/lib/python3.6/dist-packages (from scikit-learn>=0.20.2->pytorch_lightning) (1.4.1)\n",
      "Requirement already satisfied: joblib>=0.11 in /usr/local/lib/python3.6/dist-packages (from scikit-learn>=0.20.2->pytorch_lightning) (0.14.1)\n",
      "Requirement already satisfied: werkzeug>=0.11.15 in /usr/local/lib/python3.6/dist-packages (from tensorboard>=1.14->pytorch_lightning) (0.16.0)\n",
      "Requirement already satisfied: wheel>=0.26; python_version >= \"3\" in /usr/local/lib/python3.6/dist-packages (from tensorboard>=1.14->pytorch_lightning) (0.33.6)\n",
      "Requirement already satisfied: absl-py>=0.4 in /usr/local/lib/python3.6/dist-packages (from tensorboard>=1.14->pytorch_lightning) (0.9.0)\n",
      "Requirement already satisfied: markdown>=2.6.8 in /usr/local/lib/python3.6/dist-packages (from tensorboard>=1.14->pytorch_lightning) (3.1.1)\n",
      "Requirement already satisfied: protobuf>=3.6.0 in /usr/local/lib/python3.6/dist-packages (from tensorboard>=1.14->pytorch_lightning) (3.10.0)\n",
      "Requirement already satisfied: setuptools>=41.0.0 in /usr/local/lib/python3.6/dist-packages (from tensorboard>=1.14->pytorch_lightning) (42.0.2)\n",
      "Requirement already satisfied: grpcio>=1.6.3 in /usr/local/lib/python3.6/dist-packages (from tensorboard>=1.14->pytorch_lightning) (1.15.0)\n"
     ]
    }
   ],
   "source": [
    "!pip install pytorch_lightning"
   ]
  },
  {
   "cell_type": "code",
   "execution_count": 0,
   "metadata": {
    "colab": {},
    "colab_type": "code",
    "id": "DWOhHNXEvfY_"
   },
   "outputs": [],
   "source": [
    "maindir = \"/content/drive/My Drive/bengali/bengali_data/\""
   ]
  },
  {
   "cell_type": "code",
   "execution_count": 0,
   "metadata": {
    "colab": {},
    "colab_type": "code",
    "id": "jBiwIj8RM_co"
   },
   "outputs": [],
   "source": [
    "import numpy as np\n",
    "import pandas as pd\n",
    "\n",
    "import matplotlib.pyplot as plt\n",
    "%matplotlib inline\n",
    "\n",
    "\n",
    "import warnings\n",
    "warnings.filterwarnings(\"ignore\")\n",
    "\n",
    "import torch\n",
    "import torch.nn as nn\n",
    "from torch.nn.functional import cross_entropy\n",
    "from torch.utils.data import Dataset, DataLoader, ConcatDataset\n",
    "from torch.optim import SGD, Adam\n",
    "import torchvision.transforms as transforms\n",
    "\n",
    "import pytorch_lightning as pl\n",
    "from pytorch_lightning import Trainer\n",
    "\n",
    "import torchvision.models as models\n",
    "\n",
    "import albumentations as albu\n",
    "import cv2"
   ]
  },
  {
   "cell_type": "code",
   "execution_count": 0,
   "metadata": {
    "colab": {},
    "colab_type": "code",
    "id": "jMlMXDVg1i6b"
   },
   "outputs": [],
   "source": [
    "cl_consonant_diacritic = 7   #3\n",
    "cl_vowel_diacritic     = 11  #2\n",
    "cl_grapheme_root       = 168 #1"
   ]
  },
  {
   "cell_type": "code",
   "execution_count": 0,
   "metadata": {
    "colab": {},
    "colab_type": "code",
    "id": "hg5vjLB7yueA"
   },
   "outputs": [],
   "source": [
    "HEIGHT = 137\n",
    "WIDTH = 236\n",
    "SIZE = 128\n",
    "\n",
    "\n",
    "def bbox(img):\n",
    "    rows = np.any(img, axis=1)\n",
    "    cols = np.any(img, axis=0)\n",
    "    rmin, rmax = np.where(rows)[0][[0, -1]]\n",
    "    cmin, cmax = np.where(cols)[0][[0, -1]]\n",
    "    return rmin, rmax, cmin, cmax\n",
    "\n",
    "def crop_resize(img0, size=SIZE, pad=16):\n",
    "    #crop a box around pixels large than the threshold \n",
    "    #some images contain line at the sides\n",
    "    ymin,ymax,xmin,xmax = bbox(img0[5:-5,5:-5] > 80)\n",
    "    #cropping may cut too much, so we need to add it back\n",
    "    xmin = xmin - 13 if (xmin > 13) else 0\n",
    "    ymin = ymin - 10 if (ymin > 10) else 0\n",
    "    xmax = xmax + 13 if (xmax < WIDTH - 13) else WIDTH\n",
    "    ymax = ymax + 10 if (ymax < HEIGHT - 10) else HEIGHT\n",
    "    img = img0[ymin:ymax,xmin:xmax]\n",
    "    #remove lo intensity pixels as noise\n",
    "    img[img < 28] = 0\n",
    "    lx, ly = xmax-xmin,ymax-ymin\n",
    "    l = max(lx,ly) + pad\n",
    "    #make sure that the aspect ratio is kept in rescaling\n",
    "    img = np.pad(img, [((l-ly)//2,), ((l-lx)//2,)], mode='constant')\n",
    "    return cv2.resize(img,(size,size))"
   ]
  },
  {
   "cell_type": "code",
   "execution_count": 0,
   "metadata": {
    "colab": {},
    "colab_type": "code",
    "id": "SGTK2KGx1rSC"
   },
   "outputs": [],
   "source": [
    "class GraphemeDataset(Dataset):\n",
    "    \n",
    "    def __init__(self, tablefile, labelfile, transform = None):\n",
    "        \n",
    "        tablefile = pd.read_parquet(tablefile)     \n",
    "        labelfile = pd.read_csv(labelfile)\n",
    "        \n",
    "        datafile = labelfile.merge(tablefile, left_on='image_id', right_on='image_id', copy = False)\n",
    "\n",
    "        self.X_data = 255 - datafile.iloc[:, 5:].values.reshape(-1, HEIGHT, WIDTH).astype(np.uint8)\n",
    "        \n",
    "        self.y_data   = datafile.iloc[:, 1:4].to_numpy(dtype = 'uint8')\n",
    "        \n",
    "        self.transform = transform\n",
    "\n",
    "    def __getitem__(self, idx):\n",
    "        \n",
    "        X         = self.X_data[idx]\n",
    "        X = (X*(255.0/X.max())).astype(np.uint8)\n",
    "        X = crop_resize(X)\n",
    "\n",
    "\n",
    "        if self.transform:\n",
    "            augmented = self.transform(image = X)\n",
    "            X = augmented['image']\n",
    "\n",
    "        X         = (X / 255).astype(\"float32\")\n",
    "        y         = self.y_data[idx].astype(\"long\")\n",
    "        \n",
    "        return X.reshape(1, SIZE, SIZE), y\n",
    "\n",
    "    def __len__(self):\n",
    "        return len(self.y_data)"
   ]
  },
  {
   "cell_type": "code",
   "execution_count": 0,
   "metadata": {
    "colab": {},
    "colab_type": "code",
    "id": "ylC6Q_jC1tU_"
   },
   "outputs": [],
   "source": [
    "transform = albu.Compose([\n",
    "    albu.Cutout()\n",
    "    albu.ShiftScaleRotate(shift_limit = 0.0625, scale_limit = 0, rotate_limit = 0, border_mode = cv2.BORDER_CONSTANT, p = 1)\n",
    "])"
   ]
  },
  {
   "cell_type": "code",
   "execution_count": 0,
   "metadata": {
    "colab": {},
    "colab_type": "code",
    "id": "vPAwSIKC1zpQ"
   },
   "outputs": [],
   "source": [
    "train0 = GraphemeDataset(tablefile = maindir + \"train_image_data_0.parquet\",\n",
    "                        labelfile  = maindir + \"train.csv\",\n",
    "                        transform  = transform)\n",
    "train1 = GraphemeDataset(tablefile = maindir + \"train_image_data_1.parquet\",\n",
    "                        labelfile  = maindir + \"train.csv\",\n",
    "                        transform  = transform)\n",
    "train2 = GraphemeDataset(tablefile = maindir + \"train_image_data_2.parquet\",\n",
    "                        labelfile  = maindir + \"train.csv\",\n",
    "                        transform  = transform)\n",
    "train3 = GraphemeDataset(tablefile = maindir + \"train_image_data_3.parquet\",\n",
    "                        labelfile  = maindir + \"train.csv\",\n",
    "                        transform  = transform)\n",
    "\n",
    "train = ConcatDataset([train0, train1, train2, train3])"
   ]
  },
  {
   "cell_type": "code",
   "execution_count": 0,
   "metadata": {
    "colab": {},
    "colab_type": "code",
    "id": "M8L2_CXO2Ig4"
   },
   "outputs": [],
   "source": [
    "epoch = 20\n",
    "batch_size = 200\n",
    "learning_rate = 0.01\n",
    "\n",
    "class GraphemeModel(pl.LightningModule):\n",
    "\n",
    "    def __init__(self):   \n",
    "        super(GraphemeModel, self).__init__()\n",
    "        \n",
    "        self.model  = nn.Sequential(\n",
    "            nn.Conv2d(1, 3, kernel_size = 1),\n",
    "            models.resnet18(num_classes = 1000)\n",
    "            )\n",
    "        \n",
    "        self.output1 = nn.Linear(1000, cl_grapheme_root      )\n",
    "        self.output2 = nn.Linear(1000, cl_vowel_diacritic    )\n",
    "        self.output3 = nn.Linear(1000, cl_consonant_diacritic)\n",
    "        \n",
    "    def forward(self, X):\n",
    "        out = self.model(X)\n",
    "        \n",
    "        out1 = self.output1(out)\n",
    "        out2 = self.output2(out)\n",
    "        out3 = self.output3(out)\n",
    "        \n",
    "        return out1, out2, out3\n",
    "\n",
    "    def training_step(self, batch, batch_nb):\n",
    "        X, y    = batch\n",
    "        pred1, pred2, pred3 = self.forward(X)\n",
    "        \n",
    "        loss1 = cross_entropy(pred1, y[:, 0])\n",
    "        loss2 = cross_entropy(pred2, y[:, 1])\n",
    "        loss3 = cross_entropy(pred3, y[:, 2])\n",
    "        \n",
    "        loss  = loss1 + loss2 + loss3\n",
    "        \n",
    "        return {\n",
    "            'loss'         : loss,\n",
    "            'log'          : { 'loss' : loss}\n",
    "        }\n",
    "\n",
    "    def configure_optimizers(self):\n",
    "        optimizer = torch.optim.Adam(self.model.parameters(), lr = learning_rate)\n",
    "        scheduler = torch.optim.lr_scheduler.MultiStepLR(optimizer, milestones=[4, 8, 12, 16], gamma = 0.1)\n",
    "        return [optimizer], [scheduler]\n",
    "    \n",
    "    @pl.data_loader\n",
    "    def train_dataloader(self):\n",
    "        return DataLoader(train, batch_size = batch_size, shuffle = True)"
   ]
  },
  {
   "cell_type": "code",
   "execution_count": 0,
   "metadata": {
    "colab": {
     "base_uri": "https://localhost:8080/",
     "height": 376
    },
    "colab_type": "code",
    "executionInfo": {
     "elapsed": 9232955,
     "status": "error",
     "timestamp": 1580581115233,
     "user": {
      "displayName": "Даниил Игоревич Мангазеев",
      "photoUrl": "",
      "userId": "05250228785286022094"
     },
     "user_tz": -180
    },
    "id": "0I0AdspD2bRv",
    "outputId": "b7bc6bb2-a893-4833-ab9e-554ddf70a227"
   },
   "outputs": [
    {
     "name": "stderr",
     "output_type": "stream",
     "text": [
      "INFO:root:gpu available: True, used: True\n",
      "INFO:root:VISIBLE GPUS: 0\n"
     ]
    },
    {
     "data": {
      "text/html": [
       "<p style=\"color: red;\">\n",
       "The default version of TensorFlow in Colab will soon switch to TensorFlow 2.x.<br>\n",
       "We recommend you <a href=\"https://www.tensorflow.org/guide/migrate\" target=\"_blank\">upgrade</a> now \n",
       "or ensure your notebook will continue to use TensorFlow 1.x via the <code>%tensorflow_version 1.x</code> magic:\n",
       "<a href=\"https://colab.research.google.com/notebooks/tensorflow_version.ipynb\" target=\"_blank\">more info</a>.</p>\n"
      ],
      "text/plain": [
       "<IPython.core.display.HTML object>"
      ]
     },
     "metadata": {
      "tags": []
     },
     "output_type": "display_data"
    },
    {
     "name": "stderr",
     "output_type": "stream",
     "text": [
      "INFO:root:\n",
      "               Name               Type Params\n",
      "0             model         Sequential   11 M\n",
      "1           model.0             Conv2d    6  \n",
      "2           model.1             ResNet   11 M\n",
      "3     model.1.conv1             Conv2d    9 K\n",
      "4       model.1.bn1        BatchNorm2d  128  \n",
      "..              ...                ...    ...\n",
      "68  model.1.avgpool  AdaptiveAvgPool2d    0  \n",
      "69       model.1.fc             Linear  513 K\n",
      "70          output1             Linear  168 K\n",
      "71          output2             Linear   11 K\n",
      "72          output3             Linear    7 K\n",
      "\n",
      "[73 rows x 3 columns]\n"
     ]
    },
    {
     "name": "stdout",
     "output_type": "stream",
     "text": [
      "Epoch 10:  85%|████████▌ | 855/1005 [06:24<01:08,  2.20batch/s, batch_idx=853, gpu=0, loss=0.119, v_num=3]"
     ]
    }
   ],
   "source": [
    "model = GraphemeModel()\n",
    "trainer = Trainer(early_stop_callback=False, max_nb_epochs = epoch, gpus = -1)\n",
    "trainer.fit(model)"
   ]
  },
  {
   "cell_type": "code",
   "execution_count": 0,
   "metadata": {
    "colab": {},
    "colab_type": "code",
    "id": "Wu2_qMALI2Jw"
   },
   "outputs": [],
   "source": [
    "torch.save(model.model.state_dict(), \"model.pt\")\n",
    "\n",
    "torch.save(model.output1.state_dict(), \"cl_grapheme_root.pt\")\n",
    "torch.save(model.output2.state_dict(), \"cl_vowel_diacritic.pt\")\n",
    "torch.save(model.output3.state_dict(), \"cl_consonant_diacritic.pt\")"
   ]
  }
 ],
 "metadata": {
  "accelerator": "GPU",
  "colab": {
   "authorship_tag": "ABX9TyOoZ7LP6P0Qs1jUTh2Wjn1M",
   "machine_shape": "hm",
   "name": "Bengali Train aug.ipynb",
   "provenance": [],
   "toc_visible": true
  },
  "kernelspec": {
   "display_name": "Python 3",
   "language": "python",
   "name": "python3"
  },
  "language_info": {
   "codemirror_mode": {
    "name": "ipython",
    "version": 3
   },
   "file_extension": ".py",
   "mimetype": "text/x-python",
   "name": "python",
   "nbconvert_exporter": "python",
   "pygments_lexer": "ipython3",
   "version": "3.7.3"
  }
 },
 "nbformat": 4,
 "nbformat_minor": 1
}
